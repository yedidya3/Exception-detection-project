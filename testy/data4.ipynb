{
 "cells": [
  {
   "cell_type": "code",
   "execution_count": 1,
   "metadata": {},
   "outputs": [],
   "source": [
    "import dect_function\n",
    "from sklearn.neighbors import LocalOutlierFactor\n",
    "from sklearn.covariance import EllipticEnvelope\n",
    "from sklearn.svm import OneClassSVM\n",
    "from sklearn.ensemble import IsolationForest\n",
    "from sklearn.model_selection import train_test_split\n",
    "import tables\n",
    "import pandas as pd\n"
   ]
  },
  {
   "cell_type": "code",
   "execution_count": 2,
   "metadata": {},
   "outputs": [
    {
     "name": "stdout",
     "output_type": "stream",
     "text": [
      "{'mean_squared_error': 72.38867775303474, 'mean_absolute_error': 7.165765328040008}\n",
      "{'mean_squared_error': 70.69273514368057, 'mean_absolute_error': 7.054238253016824}\n",
      "{'mean_squared_error': 72.59813255554091, 'mean_absolute_error': 7.146162147707156}\n",
      "{'mean_squared_error': 70.00559156596626, 'mean_absolute_error': 6.769539653084187}\n",
      "{'mean_squared_error': 72.46797747216156, 'mean_absolute_error': 7.144320247634774}\n"
     ]
    }
   ],
   "source": [
    "\n",
    "\n",
    "\n",
    "algos = [LocalOutlierFactor(n_neighbors=20, algorithm=\"auto\", leaf_size=30, metric=\"minkowski\", p=2, metric_params=None, contamination=0.1, novelty=False, n_jobs=None),\n",
    "    EllipticEnvelope( store_precision=True, assume_centered=False, support_fraction=None, contamination=0.1, random_state=2),\n",
    "    OneClassSVM(kernel=\"rbf\", degree=2, gamma=\"scale\", coef0=0, tol=0.1, nu=0.1, shrinking=True, cache_size=200, verbose=False, max_iter=-1),\n",
    "    IsolationForest(n_estimators=200, max_samples=\"auto\", contamination=0.015, max_features=1, bootstrap=False, n_jobs=None, random_state=None, verbose=0, warm_start=False)]\n",
    "path = \"../data_sets/yacht_hydrodynamics.csv\"\n",
    "df = pd.read_csv(path)\n",
    "\n",
    "\n",
    "acc = dect_function.improvement_test_regression(df,algos)\n",
    "for ac in acc:\n",
    "    print(ac)\n",
    "    \n"
   ]
  },
  {
   "cell_type": "code",
   "execution_count": 3,
   "metadata": {},
   "outputs": [
    {
     "data": {
      "image/png": "[encoded data removed]",
      "text/plain": [
       "<Figure size 432x288 with 1 Axes>"
      ]
     },
     "metadata": {
      "needs_background": "light"
     },
     "output_type": "display_data"
    }
   ],
   "source": [
    "tables.algo_alone(acc ,\"Data yacht_hydrodynamics - Each algorithm alone\")\n"
   ]
  },
  {
   "cell_type": "code",
   "execution_count": 4,
   "metadata": {},
   "outputs": [
    {
     "name": "stdout",
     "output_type": "stream",
     "text": [
      "{'mean_squared_error': 70.99288780138679, 'mean_absolute_error': 7.006823060391976}\n"
     ]
    }
   ],
   "source": [
    "acc2 = dect_function.delete_all(df,[algos[0],algos[3]])\n",
    "# acc2 = dect_function.delete_all(df,[algos[0],algos[1],algos[3],algos[2]])\n",
    "print(acc2)\n",
    "#[algos[0],algos[1],algos[3],algos[2]]\n",
    "\n",
    "\n"
   ]
  },
  {
   "cell_type": "code",
   "execution_count": 5,
   "metadata": {},
   "outputs": [
    {
     "name": "stdout",
     "output_type": "stream",
     "text": [
      "{'mean_squared_error': 70.78011657638088, 'mean_absolute_error': 7.01131090162019}\n"
     ]
    }
   ],
   "source": [
    "acc3 = dect_function.Add_and_delete(df,[algos[0],algos[3]])\n",
    "print(acc3)\n"
   ]
  },
  {
   "cell_type": "code",
   "execution_count": 6,
   "metadata": {},
   "outputs": [
    {
     "name": "stdout",
     "output_type": "stream",
     "text": [
      "{'mean_squared_error': 72.6125885627133, 'mean_absolute_error': 7.1032669044722345}\n"
     ]
    }
   ],
   "source": [
    "\n",
    "acc4 = dect_function.uniformy_average(df,[algos[2],algos[1],algos[3]])\n",
    "print(acc4)\n"
   ]
  },
  {
   "cell_type": "code",
   "execution_count": 7,
   "metadata": {},
   "outputs": [
    {
     "name": "stdout",
     "output_type": "stream",
     "text": [
      "{'mean_squared_error': 72.2984705042037, 'mean_absolute_error': 7.135963644038667}\n"
     ]
    }
   ],
   "source": [
    "\n",
    "\n",
    "algos2 = [algos[2],algos[1],algos[3]]\n",
    "ratio = [0.5,0.25,0.25]\n",
    "\n",
    "acc5 = dect_function.ratio_average(df,algos2,ratio,10)\n",
    "print(acc5)"
   ]
  },
  {
   "cell_type": "code",
   "execution_count": 8,
   "metadata": {},
   "outputs": [
    {
     "name": "stdout",
     "output_type": "stream",
     "text": [
      "{'mean_squared_error': 72.38867775303474, 'mean_absolute_error': 7.165765328040008}\n",
      "{'mean_squared_error': 70.69273514368057, 'mean_absolute_error': 7.054238253016824}\n",
      "{'mean_squared_error': 72.59813255554091, 'mean_absolute_error': 7.146162147707156}\n",
      "{'mean_squared_error': 70.00559156596626, 'mean_absolute_error': 6.769539653084187}\n",
      "{'mean_squared_error': 72.46797747216156, 'mean_absolute_error': 7.144320247634774}\n",
      "{'mean_squared_error': 69.98336884033537, 'mean_absolute_error': 6.705832876402191}\n",
      "{'mean_squared_error': 69.98336884033537, 'mean_absolute_error': 6.705832876402191}\n",
      "{'mean_squared_error': array([-1, -1,  1, -1, -1,  1,  1,  1,  1,  1,  1,  1, -1,  1,  1,  1,  1,\n",
      "        1,  1,  1, -1,  1,  1,  1,  1, -1, -1,  1,  1, -1,  1,  1,  1,  1,\n",
      "        1, -1,  1,  1, -1, -1,  1,  1,  1, -1, -1,  1,  1,  1,  1,  1,  1,\n",
      "        1,  1,  1,  1,  1, -1,  1,  1, -1,  1,  1,  1, -1,  1, -1,  1,  1,\n",
      "        1, -1,  1,  1, -1,  1,  1,  1,  1, -1,  1,  1,  1,  1,  1,  1,  1,\n",
      "        1,  1,  1,  1, -1,  1, -1,  1,  1,  1,  1,  1,  1,  1,  1,  1,  1,\n",
      "       -1,  1, -1,  1,  1,  1,  1,  1,  1,  1,  1,  1, -1,  1,  1, -1,  1,\n",
      "        1,  1,  1,  1,  1,  1,  1,  1,  1,  1,  1,  1,  1,  1,  1,  1,  1,\n",
      "        1, -1,  1,  1,  1, -1,  1,  1,  1, -1,  1,  1,  1,  1, -1,  1,  1,\n",
      "       -1, -1, -1,  1,  1,  1,  1, -1, -1,  1,  1,  1,  1,  1,  1,  1,  1,\n",
      "        1,  1,  1,  1,  1,  1,  1,  1, -1,  1,  1,  1,  1,  1, -1,  1,  1,\n",
      "        1,  1, -1, -1, -1,  1, -1,  1,  1,  1,  1,  1,  1,  1, -1,  1, -1,\n",
      "        1]), 'mean_absolute_error': array([-1,  1,  1,  1, -1,  1,  1,  1,  1, -1,  1,  1,  1,  1,  1,  1,  1,\n",
      "        1,  1,  1, -1, -1,  1,  1, -1, -1, -1,  1,  1, -1,  1, -1, -1,  1,\n",
      "        1, -1,  1,  1, -1, -1,  1,  1,  1, -1, -1, -1,  1,  1, -1,  1,  1,\n",
      "        1,  1,  1,  1,  1,  1,  1,  1, -1,  1,  1,  1, -1,  1, -1,  1,  1,\n",
      "        1, -1,  1,  1,  1,  1,  1,  1,  1,  1,  1,  1,  1,  1,  1,  1,  1,\n",
      "        1,  1,  1, -1, -1,  1,  1,  1,  1,  1,  1,  1,  1,  1, -1,  1,  1,\n",
      "       -1,  1,  1,  1,  1,  1,  1,  1, -1,  1,  1,  1, -1, -1,  1, -1,  1,\n",
      "        1,  1,  1,  1,  1,  1,  1,  1,  1,  1,  1,  1, -1,  1,  1,  1,  1,\n",
      "        1, -1,  1,  1, -1,  1,  1,  1,  1,  1,  1,  1,  1,  1, -1, -1,  1,\n",
      "       -1, -1, -1,  1,  1,  1,  1, -1, -1,  1,  1,  1,  1,  1,  1, -1,  1,\n",
      "        1,  1,  1, -1,  1,  1,  1,  1, -1,  1,  1,  1,  1,  1,  1,  1,  1,\n",
      "        1,  1, -1, -1, -1,  1,  1,  1,  1, -1,  1,  1,  1,  1, -1, -1, -1,\n",
      "       -1]), 'result_best': {'mean_squared_error': 69.98336884033537, 'mean_absolute_error': 6.705832876402191}}\n"
     ]
    }
   ],
   "source": [
    "\n",
    "best_result = acc[0].copy()\n",
    "dd = dect_function.combination(df,algos,best_result)\n",
    "acc.append(best_result)\n",
    "for a in acc:\n",
    "    print(a)\n",
    "print(best_result)\n",
    "print(dd)\n",
    "\n"
   ]
  },
  {
   "cell_type": "code",
   "execution_count": 9,
   "metadata": {},
   "outputs": [
    {
     "data": {
      "image/png": "[encoded data removed]",
      "text/plain": [
       "<Figure size 432x288 with 1 Axes>"
      ]
     },
     "metadata": {
      "needs_background": "light"
     },
     "output_type": "display_data"
    }
   ],
   "source": [
    "tables.algo_combination(acc,\"Data yacht_hydrodynamics - Comparison of algorithms\")"
   ]
  }
 ],
 "metadata": {
  "interpreter": {
   "hash": "916dbcbb3f70747c44a77c7bcd40155683ae19c65e1c03b4aa3499c5328201f1"
  },
  "kernelspec": {
   "display_name": "Python 3.8.10 64-bit",
   "language": "python",
   "name": "python3"
  },
  "language_info": {
   "codemirror_mode": {
    "name": "ipython",
    "version": 3
   },
   "file_extension": ".py",
   "mimetype": "text/x-python",
   "name": "python",
   "nbconvert_exporter": "python",
   "pygments_lexer": "ipython3",
   "version": "3.8.10"
  },
  "orig_nbformat": 4
 },
 "nbformat": 4,
 "nbformat_minor": 2
}
